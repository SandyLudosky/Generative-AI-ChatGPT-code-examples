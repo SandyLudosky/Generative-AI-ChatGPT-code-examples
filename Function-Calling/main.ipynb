{
 "cells": [
  {
   "cell_type": "markdown",
   "metadata": {},
   "source": [
    "### - Function Calling (to connect models to external data and public APIs)\n"
   ]
  },
  {
   "cell_type": "markdown",
   "metadata": {},
   "source": [
    "> **Function** calling enables developers to connect language models to external data and systems. You can define a set of functions as tools that the model has access to, and it can use them when appropriate based on the conversation history. You can then execute those functions on the application side, and provide results back to the model."
   ]
  },
  {
   "cell_type": "code",
   "execution_count": null,
   "metadata": {
    "vscode": {
     "languageId": "bat"
    }
   },
   "outputs": [],
   "source": [
    "pip install openai==1.56.1 httpx==0.27.2 request"
   ]
  },
  {
   "cell_type": "markdown",
   "metadata": {},
   "source": [
    "- [Get an API key](https://platform.openai.com/account/api-keys)\n",
    "- OPENAI_API_KEY=\"your api key\""
   ]
  },
  {
   "cell_type": "code",
   "execution_count": null,
   "metadata": {
    "vscode": {
     "languageId": "bat"
    }
   },
   "outputs": [],
   "source": [
    "from openai import OpenAI\n",
    "import requests\n",
    "import json\n",
    "from google.colab import userdata\n",
    "\n",
    "api_key = userdata.get('OPENAI_API_KEY')\n",
    "\n",
    "client = OpenAI(api_key=api_key)\n",
    "WEATHER_API_KEY = userdata.get('WEATHER_API_KEY')"
   ]
  },
  {
   "cell_type": "markdown",
   "metadata": {},
   "source": [
    "### [OpenWeatherMap API](https://openweathermap.org/api)\n",
    "[1] - create new account\\\n",
    "[2] - get an API Key to send requests and collect weather data"
   ]
  },
  {
   "cell_type": "markdown",
   "metadata": {},
   "source": [
    "utils functions\n",
    "1. unit of temperature \n",
    "2. get coordonates"
   ]
  },
  {
   "cell_type": "code",
   "execution_count": null,
   "metadata": {
    "vscode": {
     "languageId": "bat"
    }
   },
   "outputs": [],
   "source": [
    "\n",
    "def kelvin_to_celsius(kelvin):\n",
    "    return json.dumps(round(kelvin - 273.15))\n",
    "\n",
    "\n",
    "def kelvin_to_fahrenheit(kelvin):\n",
    "    return round((kelvin - 273.15) * 9 / 5 + 32, 2)\n",
    "\n",
    "\n",
    "def geo_code(location):\n",
    "    loc = location.split(\",\")[0]\n",
    "    url = (\n",
    "        f\"http://api.openweathermap.org/geo/1.0/direct?q={loc}&appid={WEATHER_API_KEY}\"\n",
    "    )\n",
    "\n",
    "    try:\n",
    "        response = requests.get(url)\n",
    "        response.raise_for_status()\n",
    "        coordinates = response.json()\n",
    "        lat = coordinates[0].get(\"lat\")\n",
    "        lon = coordinates[0].get(\"lon\")\n",
    "        return lat, lon\n",
    "\n",
    "    except requests.HTTPError as err:\n",
    "        print(f\"HTTP error occurred: {err}\")\n",
    "        return None, None\n"
   ]
  },
  {
   "cell_type": "code",
   "execution_count": null,
   "metadata": {
    "vscode": {
     "languageId": "bat"
    }
   },
   "outputs": [],
   "source": [
    "\n",
    "def get_current_weather(location, unit=\"celsius\"):\n",
    "    lat, lon = geo_code(location)\n",
    "\n",
    "    if lat is None or lon is None:\n",
    "        print(\"Failed to get location coordinates.\")\n",
    "        return\n",
    "\n",
    "    url = f\"https://api.openweathermap.org/data/2.5/weather?lat={lat}&lon={lon}&appid={WEATHER_API_KEY}\"\n",
    "\n",
    "    try:\n",
    "        response = requests.get(url)\n",
    "        response.raise_for_status()\n",
    "        weather_data = response.json()\n",
    "        current_temp = weather_data[\"main\"][\"temp\"]\n",
    "        description = weather_data[\"weather\"][0][\"description\"]\n",
    "\n",
    "        weather_info = {\n",
    "            \"location\": location,\n",
    "            \"temperature\": kelvin_to_celsius(current_temp)\n",
    "            if unit == \"celsius\"\n",
    "            else kelvin_to_fahrenheit(current_temp),\n",
    "            \"unit\": unit,\n",
    "            \"forecast\": description,\n",
    "        }\n",
    "\n",
    "        # make sure to convert to stringified json object\n",
    "        return json.dumps(weather_info)\n",
    "\n",
    "    except requests.HTTPError as err:\n",
    "        print(f\"HTTP error occurred: {err}\")\n",
    "        return\n"
   ]
  },
  {
   "cell_type": "markdown",
   "metadata": {},
   "source": [
    "### Function Calling"
   ]
  },
  {
   "cell_type": "code",
   "execution_count": null,
   "metadata": {
    "vscode": {
     "languageId": "bat"
    }
   },
   "outputs": [],
   "source": [
    "# Constants\n",
    "MODEL_ENGINE = \"gpt-4o-mini\"\n",
    "messages = [{\"role\": \"system\", \"content\": \"You are a helpful assistant\"}]\n",
    "user_input = \"What's the weather in San Francisco?\"\n",
    "available_functions = {\n",
    "    \"get_current_weather\": get_current_weather,\n",
    "}  # only one function in this example, but you can have multiple\n",
    "\n",
    "\n",
    "tools = [\n",
    "    {\n",
    "        \"type\": \"function\",\n",
    "        \"function\": {\n",
    "            \"name\": \"get_current_weather\",\n",
    "            \"description\": \"Get the current weather in a given location\",\n",
    "            \"parameters\": {\n",
    "                \"type\": \"object\",\n",
    "                \"properties\": {\n",
    "                    \"location\": {\n",
    "                        \"type\": \"string\",\n",
    "                        \"description\": \"The city and state, e.g. San Francisco, CA\",\n",
    "                    },\n",
    "                    \"unit\": {\"type\": \"string\", \"enum\": [\"celsius\", \"fahrenheit\"]},\n",
    "                },\n",
    "                \"required\": [\"location\", \"unit\"],\n",
    "            },\n",
    "        },\n",
    "    }\n",
    "]\n",
    "\n",
    "\n",
    "def generate_response():\n",
    "    # Step 1: send the conversation and available functions to GPT\n",
    "    completion = client.chat.completions.create(\n",
    "    model=\"gpt-4o\",\n",
    "    messages=[{\"role\": \"user\", \"content\": user_input}],\n",
    "    tools=tools,\n",
    "    )\n",
    "    messages.append(completion.choices[0].message)  # extend conversation with assistant's reply\n",
    "\n",
    "    # Step 2: check if GPT wanted to call a function and generate an extended response\n",
    "    tool_calls = completion.choices[0].message.tool_calls\n",
    "    print(completion.choices[0].message.tool_calls)\n",
    "\n",
    "    if tool_calls:\n",
    "        for tool_call in tool_calls:\n",
    "            function_name = tool_call.function.name\n",
    "            function_to_call = available_functions[function_name]\n",
    "            function_args = json.loads(tool_call.function.arguments)\n",
    "\n",
    "            # Step 3: call the function\n",
    "            function_response = function_to_call(\n",
    "                location=function_args.get(\"location\"),\n",
    "                unit=function_args.get(\"unit\"),\n",
    "            )\n",
    "\n",
    "            print(function_response)\n",
    "\n",
    "            # Step 4: send the info on the function call and function response to GPT\n",
    "            # extend conversation with assistant's reply\n",
    "            messages.append(\n",
    "                {\n",
    "                    \"tool_call_id\": tool_call.id,\n",
    "                    \"role\": \"tool\",\n",
    "                    \"name\": function_name,\n",
    "                    \"content\": function_response,\n",
    "                }\n",
    "            )  # extend conversation with function response\n",
    "            # Step 4: send the info on the function call and function response to GPT\n",
    "\n",
    "        # extend conversation with assistant's reply\n",
    "        second_response = client.chat.completions.create(\n",
    "          model=\"gpt-3.5-turbo-1106\",\n",
    "          messages=messages,\n",
    "        )  # get a new response from the model where it can see the function response\n",
    "        print(\"Bot: \" + second_response.choices[0].message.content)\n",
    "\n"
   ]
  },
  {
   "cell_type": "code",
   "execution_count": null,
   "metadata": {},
   "outputs": [],
   "source": [
    "message_response = generate_response()\n",
    "print(message_response)"
   ]
  }
 ],
 "metadata": {
  "kernelspec": {
   "display_name": "Python 3",
   "language": "python",
   "name": "python3"
  },
  "language_info": {
   "codemirror_mode": {
    "name": "ipython",
    "version": 3
   },
   "file_extension": ".py",
   "mimetype": "text/x-python",
   "name": "python",
   "nbconvert_exporter": "python",
   "pygments_lexer": "ipython3",
   "version": "3.12.3"
  }
 },
 "nbformat": 4,
 "nbformat_minor": 2
}
